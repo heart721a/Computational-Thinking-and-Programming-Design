{
  "nbformat": 4,
  "nbformat_minor": 0,
  "metadata": {
    "colab": {
      "name": "week7 A106260020 楊鎵綺.ipynb",
      "provenance": [],
      "include_colab_link": true
    },
    "kernelspec": {
      "name": "python3",
      "display_name": "Python 3"
    }
  },
  "cells": [
    {
      "cell_type": "markdown",
      "metadata": {
        "id": "view-in-github",
        "colab_type": "text"
      },
      "source": [
        "<a href=\"https://colab.research.google.com/github/heart721a/Computational-Thinking-and-Programming-Design/blob/master/week7_A106260020_%E6%A5%8A%E9%8E%B5%E7%B6%BA.ipynb\" target=\"_parent\"><img src=\"https://colab.research.google.com/assets/colab-badge.svg\" alt=\"Open In Colab\"/></a>"
      ]
    },
    {
      "cell_type": "code",
      "metadata": {
        "id": "iVVbKAVBR6Og",
        "colab_type": "code",
        "colab": {
          "base_uri": "https://localhost:8080/",
          "height": 102
        },
        "outputId": "ff45c677-0747-47ec-9202-ea01527170cf"
      },
      "source": [
        "s1=\"123\"\n",
        "s2=\"456\"\n",
        "s3=s1+s2 #字串連接\n",
        "print(s3)\n",
        "s4=s1*2 #複製字串\n",
        "print(s4)\n",
        "s5=\"春眠不覺曉，處處聞啼鳥。\\n\\\n",
        "夜來風雨聲，花落知多少。\\n\\\n",
        "\\t作者'孟浩然' 詩名'春曉'\"\n",
        "print(s5)"
      ],
      "execution_count": 2,
      "outputs": [
        {
          "output_type": "stream",
          "text": [
            "123456\n",
            "123123\n",
            "春眠不覺曉，處處聞啼鳥。\n",
            "夜來風雨聲，花落知多少。\n",
            "\t作者'孟浩然' 詩名'春曉'\n"
          ],
          "name": "stdout"
        }
      ]
    },
    {
      "cell_type": "code",
      "metadata": {
        "id": "oxQHzZXVShUS",
        "colab_type": "code",
        "colab": {
          "base_uri": "https://localhost:8080/",
          "height": 34
        },
        "outputId": "9d731db4-3c7d-4ee3-bcd9-1a6d5343ae3e"
      },
      "source": [
        "s1=int(123)\n",
        "s2=int(456) #數字\n",
        "s3=s1+s2 \n",
        "print(s1+s2)"
      ],
      "execution_count": 4,
      "outputs": [
        {
          "output_type": "stream",
          "text": [
            "579\n"
          ],
          "name": "stdout"
        }
      ]
    },
    {
      "cell_type": "code",
      "metadata": {
        "id": "27yAapbDSuPB",
        "colab_type": "code",
        "colab": {
          "base_uri": "https://localhost:8080/",
          "height": 68
        },
        "outputId": "b82db809-62fb-4a3d-d756-f71049dbd795"
      },
      "source": [
        "s=\"0123456789\"\n",
        "print(\"s[0]\", s[0]) \n",
        "print(\"s[1]\", s[1])\n",
        "print(\"s[-1]\", s[-1])"
      ],
      "execution_count": 7,
      "outputs": [
        {
          "output_type": "stream",
          "text": [
            "s[0] 0\n",
            "s[1] 1\n",
            "s[-1] 9\n"
          ],
          "name": "stdout"
        }
      ]
    },
    {
      "cell_type": "code",
      "metadata": {
        "id": "afd6YCMETcMR",
        "colab_type": "code",
        "colab": {
          "base_uri": "https://localhost:8080/",
          "height": 51
        },
        "outputId": "0c11c64f-63f0-45ad-ce34-ce315a0b0668"
      },
      "source": [
        "print(s, s[:])\n",
        "print(s, s[5:]) #到尾"
      ],
      "execution_count": 8,
      "outputs": [
        {
          "output_type": "stream",
          "text": [
            "0123456789 0123456789\n",
            "0123456789 56789\n"
          ],
          "name": "stdout"
        }
      ]
    },
    {
      "cell_type": "code",
      "metadata": {
        "id": "jXp1VkoFUGuY",
        "colab_type": "code",
        "colab": {
          "base_uri": "https://localhost:8080/",
          "height": 51
        },
        "outputId": "3acb4ca6-fee1-4e52-cdc6-df89a52c69fa"
      },
      "source": [
        "s=\"春眠不覺曉，處處聞啼鳥，夜來風雨聲，花落知多少\"\n",
        "print(len(s)) #算字串長度\n",
        "\n",
        "s1=\"春眠不覺曉，處處聞啼鳥，夜來風雨聲，花落知多少\"\n",
        "list1=s1.split('，')\n",
        "print(list1)\n",
        "\n"
      ],
      "execution_count": 17,
      "outputs": [
        {
          "output_type": "stream",
          "text": [
            "23\n",
            "['春眠不覺曉', '處處聞啼鳥', '夜來風雨聲', '花落知多少']\n"
          ],
          "name": "stdout"
        }
      ]
    },
    {
      "cell_type": "code",
      "metadata": {
        "id": "WTB26iGTWT38",
        "colab_type": "code",
        "colab": {
          "base_uri": "https://localhost:8080/",
          "height": 51
        },
        "outputId": "32773a71-9084-44c5-8654-aa0050b5316a"
      },
      "source": [
        "s1=\"春眠不覺曉，處處聞啼鳥，夜來風雨聲，花落知多少\"\n",
        "print(s1.split('，'))\n",
        "\n",
        "s2='，'.join(list1)\n",
        "print(s2)"
      ],
      "execution_count": 21,
      "outputs": [
        {
          "output_type": "stream",
          "text": [
            "['春眠不覺曉', '處處聞啼鳥', '夜來風雨聲', '花落知多少']\n",
            "春眠不覺曉，處處聞啼鳥，夜來風雨聲，花落知多少\n"
          ],
          "name": "stdout"
        }
      ]
    },
    {
      "cell_type": "code",
      "metadata": {
        "id": "6bDMw3S3W1Km",
        "colab_type": "code",
        "colab": {
          "base_uri": "https://localhost:8080/",
          "height": 68
        },
        "outputId": "2d8a47f6-f9ed-4421-b5aa-3f6f0108a450"
      },
      "source": [
        "s1=\"春眠不覺曉，處處聞啼鳥，夜來風雨聲，花落知多少\"\n",
        "print(s1.find('花落')) #從0開始花在第18個字 \n",
        "print(s1.count('處'))\n",
        "\n",
        "s3=s1.replace('春','夏') #以夏替代春\n",
        "print(s3)"
      ],
      "execution_count": 24,
      "outputs": [
        {
          "output_type": "stream",
          "text": [
            "18\n",
            "2\n",
            "夏眠不覺曉，處處聞啼鳥，夜來風雨聲，花落知多少\n"
          ],
          "name": "stdout"
        }
      ]
    },
    {
      "cell_type": "code",
      "metadata": {
        "id": "Ds5JOb3ZX0Ub",
        "colab_type": "code",
        "colab": {
          "base_uri": "https://localhost:8080/",
          "height": 102
        },
        "outputId": "24a170e2-cc54-4cbd-985b-baa3c5631d0e"
      },
      "source": [
        "s1='an banAna a day.'\n",
        "print(s1.capitalize()) #字串字首改為大寫\n",
        "print(s1.title()) #每個英文單字的字首都改為大寫\n",
        "print(s1.swapcase()) #大寫字母改小寫，小寫字母改大寫\n",
        "print(s1.upper()) #所有字母改大寫\n",
        "print(s1.lower()) #所有字母改小寫"
      ],
      "execution_count": 30,
      "outputs": [
        {
          "output_type": "stream",
          "text": [
            "An banana a day.\n",
            "An Banana A Day.\n",
            "AN BANaNA A DAY.\n",
            "AN BANANA A DAY.\n",
            "an banana a day.\n"
          ],
          "name": "stdout"
        }
      ]
    },
    {
      "cell_type": "code",
      "metadata": {
        "id": "ewgX8rGkYhMK",
        "colab_type": "code",
        "colab": {
          "base_uri": "https://localhost:8080/",
          "height": 102
        },
        "outputId": "98526b76-41fa-44a4-d2b4-c2d6b16310fb"
      },
      "source": [
        "t6 = ('z', ) #單一元素表示元組，要加逗號\n",
        "print(t6)\n",
        "\n",
        "t7=('z') #沒加逗號就是字串\n",
        "print(t7)\n",
        "\n",
        "t1=() #小括號元組\n",
        "print(t1)\n",
        "\n",
        "list1=[1,2,3,4] #串列變元組\n",
        "t4 = tuple(list1) #用tuple()元組\n",
        "print(t4)\n",
        "\n",
        "t4 = (1,2,3,4) #元組中有元組\n",
        "t5 = (t4,5,6)\n",
        "print(t5)\n"
      ],
      "execution_count": 35,
      "outputs": [
        {
          "output_type": "stream",
          "text": [
            "('z',)\n",
            "z\n",
            "()\n",
            "(1, 2, 3, 4)\n",
            "((1, 2, 3, 4), 5, 6)\n"
          ],
          "name": "stdout"
        }
      ]
    },
    {
      "cell_type": "code",
      "metadata": {
        "id": "N2v1GM-TZxvn",
        "colab_type": "code",
        "colab": {
          "base_uri": "https://localhost:8080/",
          "height": 68
        },
        "outputId": "6264f267-1e8b-4d28-a6ff-b2cf3a0d04da"
      },
      "source": [
        "#建立串列\n",
        "#使用中括號 [] 將希望儲存的資訊包括起來。\n",
        "#也可以使用內建函數 list() 來創建\n",
        "\n",
        "shoplist = ['牛奶', '蛋', '咖啡', '西瓜', '鳳梨']\n",
        "print('購物清單shoplist')\n",
        "print(shoplist)\n",
        "\n",
        "list1 = list('python')\n",
        "print(list1) #用list()建立串列\n",
        "\n"
      ],
      "execution_count": 36,
      "outputs": [
        {
          "output_type": "stream",
          "text": [
            "購物清單shoplist\n",
            "['牛奶', '蛋', '咖啡', '西瓜', '鳳梨']\n",
            "['p', 'y', 't', 'h', 'o', 'n']\n"
          ],
          "name": "stdout"
        }
      ]
    },
    {
      "cell_type": "code",
      "metadata": {
        "id": "1N0LEZSlcrs9",
        "colab_type": "code",
        "colab": {
          "base_uri": "https://localhost:8080/",
          "height": 51
        },
        "outputId": "cc3c783a-2e19-4025-e2d6-aa4d610dd4fd"
      },
      "source": [
        "shoplist=['牛奶', '蛋', '咖啡', '西瓜', '鳳梨']\n",
        "print('購物清單shoplist長度是', len(shoplist)) #len長度\n",
        "\n",
        "shoplist1=['牛奶', '蛋']\n",
        "shoplist2=['咖啡', '西瓜', '鳳梨']\n",
        "print(shoplist1+shoplist2) #兩串列可以連接\n"
      ],
      "execution_count": 40,
      "outputs": [
        {
          "output_type": "stream",
          "text": [
            "購物清單shoplist長度是 5\n",
            "['牛奶', '蛋', '咖啡', '西瓜', '鳳梨']\n"
          ],
          "name": "stdout"
        }
      ]
    },
    {
      "cell_type": "code",
      "metadata": {
        "id": "AP9V7-e1dhGp",
        "colab_type": "code",
        "colab": {
          "base_uri": "https://localhost:8080/",
          "height": 68
        },
        "outputId": "802dcf1a-e8aa-4ad6-caaa-317ab42fc472"
      },
      "source": [
        "shoplist=['牛奶', '蛋', '咖啡', '西瓜', '鳳梨']\n",
        "print(shoplist[0]) #使用「[]」找出字串元素\n",
        "\n",
        "index=shoplist.index('咖啡') \n",
        "print(index) #找出元素索引值\n",
        "\n",
        "shoplist[1]='皮蛋' #第一個元素更改成皮蛋\n",
        "print(shoplist)\n"
      ],
      "execution_count": 46,
      "outputs": [
        {
          "output_type": "stream",
          "text": [
            "牛奶\n",
            "2\n",
            "['牛奶', '皮蛋', '咖啡', '西瓜', '鳳梨']\n"
          ],
          "name": "stdout"
        }
      ]
    },
    {
      "cell_type": "code",
      "metadata": {
        "id": "jPjwKexSgPMM",
        "colab_type": "code",
        "colab": {
          "base_uri": "https://localhost:8080/",
          "height": 102
        },
        "outputId": "756458a6-c967-41cc-b812-5a3cc73c1a15"
      },
      "source": [
        "a = list('abcdefghijk') #找串列list的每一個元素\n",
        "print(a[:])\n",
        "print(a[2:])\n",
        "print(a[:3])\n",
        "print(a[2:7])\n",
        "print(a[0:8:2]) #list[開始:結束:間隔]"
      ],
      "execution_count": 55,
      "outputs": [
        {
          "output_type": "stream",
          "text": [
            "['a', 'b', 'c', 'd', 'e', 'f', 'g', 'h', 'i', 'j', 'k']\n",
            "['c', 'd', 'e', 'f', 'g', 'h', 'i', 'j', 'k']\n",
            "['a', 'b', 'c']\n",
            "['c', 'd', 'e', 'f', 'g']\n",
            "['a', 'c', 'e', 'g']\n"
          ],
          "name": "stdout"
        }
      ]
    },
    {
      "cell_type": "code",
      "metadata": {
        "id": "fN6zHX8FhcgD",
        "colab_type": "code",
        "colab": {
          "base_uri": "https://localhost:8080/",
          "height": 34
        },
        "outputId": "9a7ad4fc-c620-4b62-9bd9-687c02943fb1"
      },
      "source": [
        "shoplist=['牛奶', '蛋', '咖啡', '西瓜', '鳳梨']\n",
        "shoplist.append('麵包') #增加元素到串列的最後面\n",
        "shoplist.insert(4, '蘋果') #增加元素到串列的指定位置\n",
        "print(shoplist)\n",
        "\n",
        "\n",
        "\n"
      ],
      "execution_count": 58,
      "outputs": [
        {
          "output_type": "stream",
          "text": [
            "['牛奶', '蛋', '咖啡', '西瓜', '蘋果', '鳳梨', '麵包']\n"
          ],
          "name": "stdout"
        }
      ]
    }
  ]
}
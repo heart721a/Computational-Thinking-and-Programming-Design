{
  "nbformat": 4,
  "nbformat_minor": 0,
  "metadata": {
    "colab": {
      "name": "Week15 A106260020 楊鎵綺.ipynb",
      "provenance": [],
      "include_colab_link": true
    },
    "kernelspec": {
      "name": "python3",
      "display_name": "Python 3"
    }
  },
  "cells": [
    {
      "cell_type": "markdown",
      "metadata": {
        "id": "view-in-github",
        "colab_type": "text"
      },
      "source": [
        "<a href=\"https://colab.research.google.com/github/heart721a/Computational-Thinking-and-Programming-Design/blob/master/Week15_A106260020_%E6%A5%8A%E9%8E%B5%E7%B6%BA.ipynb\" target=\"_parent\"><img src=\"https://colab.research.google.com/assets/colab-badge.svg\" alt=\"Open In Colab\"/></a>"
      ]
    },
    {
      "cell_type": "code",
      "metadata": {
        "id": "0FOANUE-ut_s",
        "colab_type": "code",
        "colab": {
          "base_uri": "https://localhost:8080/",
          "height": 187
        },
        "outputId": "237f1687-1e48-4369-ba00-2af8bae81b87"
      },
      "source": [
        "#一般型迴圈\n",
        "#(方法一)\n",
        "\n",
        "x=0\n",
        "while x<10:\n",
        "  print(\"hello\")\n",
        "  x=x+1"
      ],
      "execution_count": 4,
      "outputs": [
        {
          "output_type": "stream",
          "text": [
            "hello\n",
            "hello\n",
            "hello\n",
            "hello\n",
            "hello\n",
            "hello\n",
            "hello\n",
            "hello\n",
            "hello\n",
            "hello\n"
          ],
          "name": "stdout"
        }
      ]
    },
    {
      "cell_type": "code",
      "metadata": {
        "id": "bYLKhSS_wMx-",
        "colab_type": "code",
        "colab": {
          "base_uri": "https://localhost:8080/",
          "height": 187
        },
        "outputId": "e761e4a8-9efd-4132-d016-de4b94a16ba3"
      },
      "source": [
        "#(方法二)\n",
        "\n",
        "times=0 #初始\n",
        "while times <10: #判斷\n",
        "  times=times+1 #更新\n",
        "  print(\"這是第\", times, \"次的hello\")\n"
      ],
      "execution_count": 7,
      "outputs": [
        {
          "output_type": "stream",
          "text": [
            "這是第 1 次的hello\n",
            "這是第 2 次的hello\n",
            "這是第 3 次的hello\n",
            "這是第 4 次的hello\n",
            "這是第 5 次的hello\n",
            "這是第 6 次的hello\n",
            "這是第 7 次的hello\n",
            "這是第 8 次的hello\n",
            "這是第 9 次的hello\n",
            "這是第 10 次的hello\n"
          ],
          "name": "stdout"
        }
      ]
    },
    {
      "cell_type": "code",
      "metadata": {
        "id": "z7VzFIBFwvLu",
        "colab_type": "code",
        "colab": {
          "base_uri": "https://localhost:8080/",
          "height": 34
        },
        "outputId": "aeac2e1e-313c-4298-9a54-91dd9a0fac60"
      },
      "source": [
        "#記憶型迴圈\n",
        "\n",
        "x=0\n",
        "result=0\n",
        "\n",
        "while x<10:\n",
        "  x=x+1\n",
        "  result=result+x\n",
        "\n",
        "print(\"答案是:\", result)"
      ],
      "execution_count": 10,
      "outputs": [
        {
          "output_type": "stream",
          "text": [
            "答案是: 55\n"
          ],
          "name": "stdout"
        }
      ]
    },
    {
      "cell_type": "code",
      "metadata": {
        "id": "PqEOYO50wh48",
        "colab_type": "code",
        "colab": {
          "base_uri": "https://localhost:8080/",
          "height": 34
        },
        "outputId": "ed94a351-af2c-4339-a30d-80571371088e"
      },
      "source": [
        "#不知道次數迴圈\n",
        "\n",
        "x=0 \n",
        "result=0  #初始條件\n",
        "\n",
        "while result <=50:  #判斷條件\n",
        "  x=x+1             #更新條件\n",
        "  result=result+x\n",
        "print(\"最後加的X是:\",x)"
      ],
      "execution_count": 14,
      "outputs": [
        {
          "output_type": "stream",
          "text": [
            "最後加的X是: 10\n"
          ],
          "name": "stdout"
        }
      ]
    },
    {
      "cell_type": "code",
      "metadata": {
        "id": "70vF8Dd7yO7m",
        "colab_type": "code",
        "colab": {
          "base_uri": "https://localhost:8080/",
          "height": 34
        },
        "outputId": "57b8cdd7-6625-476f-ef7a-edb1f973274a"
      },
      "source": [
        "sum=0\n",
        "x=1\n",
        "\n",
        "while x<11:\n",
        "  sum=sum+x\n",
        "  x=x+2\n",
        "\n",
        "print(\"答案是:\", x)"
      ],
      "execution_count": 15,
      "outputs": [
        {
          "output_type": "stream",
          "text": [
            "答案是: 11\n"
          ],
          "name": "stdout"
        }
      ]
    },
    {
      "cell_type": "code",
      "metadata": {
        "id": "KGtSxsiex6ag",
        "colab_type": "code",
        "colab": {
          "base_uri": "https://localhost:8080/",
          "height": 34
        },
        "outputId": "d19576bf-2f90-475a-92ec-89d0e23f910d"
      },
      "source": [
        "x=0\n",
        "result=0\n",
        "\n",
        "#錯誤while result <=1000:\n",
        "  #錯誤x=x*x\n",
        "  #錯誤result=result+x\n",
        "\n",
        "while result <=1000:\n",
        "  x=x+1\n",
        "  result=result+x*x\n",
        "  \n",
        "print(\"答案是\", x)"
      ],
      "execution_count": 20,
      "outputs": [
        {
          "output_type": "stream",
          "text": [
            "答案是 14\n"
          ],
          "name": "stdout"
        }
      ]
    },
    {
      "cell_type": "code",
      "metadata": {
        "id": "kKS27_CI0xmG",
        "colab_type": "code",
        "colab": {
          "base_uri": "https://localhost:8080/",
          "height": 34
        },
        "outputId": "14b37602-6ac9-482f-ae45-34c21f0a49d3"
      },
      "source": [
        "sum=0 #初始值\n",
        "x=0\n",
        "\n",
        "while sum <=1000: #判斷條件\n",
        "  x=x+1           #更新條件  #x=x+1=x+=1\n",
        "  sum=sum+x*x\n",
        "print(\"最小的n值是:\",x)"
      ],
      "execution_count": 19,
      "outputs": [
        {
          "output_type": "stream",
          "text": [
            "最小的n值是: 14\n"
          ],
          "name": "stdout"
        }
      ]
    },
    {
      "cell_type": "code",
      "metadata": {
        "id": "CMr_nW7N3JO9",
        "colab_type": "code",
        "colab": {
          "base_uri": "https://localhost:8080/",
          "height": 68
        },
        "outputId": "5712bd25-888f-46d2-b543-9b9c43be6c25"
      },
      "source": [
        "#迴圈結構特殊指令Break=讓迴圈終止\n",
        "\n",
        "x=1\n",
        "while(x<6):\n",
        "  print(x)\n",
        "  if x==3:\n",
        "    break\n",
        "  x+=1  \n"
      ],
      "execution_count": 23,
      "outputs": [
        {
          "output_type": "stream",
          "text": [
            "1\n",
            "2\n",
            "3\n"
          ],
          "name": "stdout"
        }
      ]
    },
    {
      "cell_type": "code",
      "metadata": {
        "id": "w4ynSNnaz1f9",
        "colab_type": "code",
        "colab": {
          "base_uri": "https://localhost:8080/",
          "height": 85
        },
        "outputId": "0d55c902-eb5f-4ff8-8ae8-12d04d05643c"
      },
      "source": [
        "#continue迴圈特殊指令\n",
        "#只跳過continue那圈不跑，剩下繼續\n",
        "\n",
        "x=0\n",
        "while(x<5):\n",
        "  x=x+1\n",
        "  if x==4:\n",
        "    continue\n",
        "  print(x, \"樓\")"
      ],
      "execution_count": 25,
      "outputs": [
        {
          "output_type": "stream",
          "text": [
            "1 樓\n",
            "2 樓\n",
            "3 樓\n",
            "5 樓\n"
          ],
          "name": "stdout"
        }
      ]
    },
    {
      "cell_type": "code",
      "metadata": {
        "id": "tsrrCR1R4sCd",
        "colab_type": "code",
        "colab": {}
      },
      "source": [
        ""
      ],
      "execution_count": 0,
      "outputs": []
    }
  ]
}
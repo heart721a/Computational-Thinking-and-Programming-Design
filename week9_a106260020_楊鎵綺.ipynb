{
  "nbformat": 4,
  "nbformat_minor": 0,
  "metadata": {
    "colab": {
      "name": "week9 a106260020 楊鎵綺.ipynb",
      "provenance": [],
      "include_colab_link": true
    },
    "kernelspec": {
      "name": "python3",
      "display_name": "Python 3"
    }
  },
  "cells": [
    {
      "cell_type": "markdown",
      "metadata": {
        "id": "view-in-github",
        "colab_type": "text"
      },
      "source": [
        "<a href=\"https://colab.research.google.com/github/heart721a/Computational-Thinking-and-Programming-Design/blob/master/week9_a106260020_%E6%A5%8A%E9%8E%B5%E7%B6%BA.ipynb\" target=\"_parent\"><img src=\"https://colab.research.google.com/assets/colab-badge.svg\" alt=\"Open In Colab\"/></a>"
      ]
    },
    {
      "cell_type": "code",
      "metadata": {
        "id": "uw0S3HPaPMGV",
        "colab_type": "code",
        "colab": {
          "base_uri": "https://localhost:8080/",
          "height": 51
        },
        "outputId": "5cc1d775-e4b0-4448-f41c-ddb7d48b4819"
      },
      "source": [
        "score=int(input(\"輸入一個成績\"))\n",
        "if score>= 80:\n",
        "   print(\"非常好\")\n",
        "elif score >= 60:\n",
        "   print(\"不錯喔\")\n",
        "else:\n",
        "   print(\"要加油\")\n",
        "\n",
        "   \n",
        "  "
      ],
      "execution_count": 1,
      "outputs": [
        {
          "output_type": "stream",
          "text": [
            "輸入一個成績76\n",
            "不錯喔\n"
          ],
          "name": "stdout"
        }
      ]
    },
    {
      "cell_type": "code",
      "metadata": {
        "id": "LQPfLRHYkwSL",
        "colab_type": "code",
        "colab": {
          "base_uri": "https://localhost:8080/",
          "height": 68
        },
        "outputId": "592e3ac5-a2e1-470f-c847-6a43011186a4"
      },
      "source": [
        "x=float(input(\"輸入該點X座標\"))\n",
        "y=float(input(\"輸入該點Y座標\"))\n",
        "if x> 0:\n",
        "  if y> 0:\n",
        "    print(\"該點在第一象限\")\n",
        "  else:\n",
        "    print(\"該點在第四象限\")\n"
      ],
      "execution_count": 7,
      "outputs": [
        {
          "output_type": "stream",
          "text": [
            "輸入該點X座標2\n",
            "輸入該點Y座標3\n",
            "該點在第一象限\n"
          ],
          "name": "stdout"
        }
      ]
    },
    {
      "cell_type": "code",
      "metadata": {
        "id": "gN1GqVvdmNug",
        "colab_type": "code",
        "colab": {
          "base_uri": "https://localhost:8080/",
          "height": 51
        },
        "outputId": "964f2d7a-463b-4ff4-9fb1-843190df59c8"
      },
      "source": [
        "money=int(input(\"購買金額\"))\n",
        "if money>= 3000:\n",
        "   print(money*0.9)\n",
        "else:\n",
        "   print(total)   "
      ],
      "execution_count": 14,
      "outputs": [
        {
          "output_type": "stream",
          "text": [
            "購買金額4000\n",
            "3600.0\n"
          ],
          "name": "stdout"
        }
      ]
    },
    {
      "cell_type": "code",
      "metadata": {
        "id": "46JWdVxpkq47",
        "colab_type": "code",
        "colab": {}
      },
      "source": [
        ""
      ],
      "execution_count": 0,
      "outputs": []
    }
  ]
}